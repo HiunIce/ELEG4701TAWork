{
 "cells": [
  {
   "cell_type": "markdown",
   "source": [
    "# ELEG 4701 Note 1: Elements in python\r\n",
    "\r\n",
    "2021-2022 Term 1, ELEG 4701: Intelligent Interactive Robots. \r\n",
    "\r\n",
    "Department of Electronic Engineering, The Chinese University of Hong Kong. \r\n",
    "\r\n",
    "Course Instructor: Liu Li. \r\n",
    "\r\n",
    "Teaching Assistant for Lecure 2: Li Ang \r\n"
   ],
   "metadata": {}
  },
  {
   "cell_type": "markdown",
   "source": [
    "| Student Name | Student ID |\r\n",
    "| :----: | :----: |\r\n",
    "| Your Name | Your SID |\r\n",
    "\r\n",
    "------"
   ],
   "metadata": {}
  },
  {
   "cell_type": "markdown",
   "source": [
    " The objective of this note is for you to get ready for python programming rapidly.\r\n",
    " \r\n",
    " **If you really can not finish the assignment 2, run this script with a report, It will be counted as scores.**\r\n",
    "\r\n",
    "This note has the following sections:\r\n",
    "\r\n",
    " - Section 1: **Type and variable**\r\n",
    " - Section 2: **Useful Data structure in python**\r\n",
    " - Section 3: **If, for and while**\r\n",
    "\r\n",
    "\r\n",
    "Add codes or extra cells are encouraged, and you can write comments so that we can keep improving this notes!.\r\n",
    "\r\n",
    "You can also report bugs or comments via **github issues** or **psw.liang@link.cuhk.edu.hk**.\r\n"
   ],
   "metadata": {}
  },
  {
   "cell_type": "markdown",
   "source": [
    "## Section 1 Type and variable\r\n",
    "\r\n",
    "In this section, I will tak about what is a **variable** and what is a **type**.\r\n",
    "\r\n",
    "\r\n",
    "The concept of variable is basically not exactly the same as the variable of algebraic equation. It is more like a \"code name\" for a data structure.\r\n",
    "\r\n",
    "And the 'type' of variable, is the 'type' of the data structure. \r\n",
    "\r\n",
    "For example, in C or Cpp, you have to declare a int number with\r\n",
    "\r\n",
    "int a = 0;\r\n",
    "\r\n",
    "or \r\n",
    "\r\n",
    "\r\n",
    "auto a = 0; // in modern cpp, you can use the key word 'auto' to let the compiler help you inference the type of variable. \r\n",
    "\r\n",
    "\r\n",
    "Therefore, naturally we will have a question that is the auto here redundant?\r\n",
    "\r\n",
    "In python, you don’t have to write out the data type explicitly. At the same time, this feature leads to another interesting feature; in python, you can assign a variable many times, even if the objects belongs to different classes. \r\n"
   ],
   "metadata": {}
  },
  {
   "cell_type": "code",
   "execution_count": 9,
   "source": [
    "# Run this cell without modification\r\n",
    "a = 1 # assigned 1 to a\r\n",
    "print(type(a)) # print the type of variable\r\n",
    "a = 2 # assigned 2 to a\r\n",
    "print(type(a))\r\n",
    "a = \"abc\" # assgined a into another class\r\n",
    "print(type(a))\r\n",
    "\r\n",
    "\"\"\"\r\n",
    "Expected output \r\n",
    "<class 'int'>\r\n",
    "<class 'int'>\r\n",
    "<class 'str'>\r\n",
    "\"\"\""
   ],
   "outputs": [
    {
     "output_type": "stream",
     "name": "stdout",
     "text": [
      "<class 'int'>\n",
      "<class 'int'>\n",
      "<class 'str'>\n"
     ]
    },
    {
     "output_type": "execute_result",
     "data": {
      "text/plain": [
       "\"\\nExpected output \\n<class 'int'>\\n<class 'int'>\\n<class 'str'>\\n\""
      ]
     },
     "metadata": {},
     "execution_count": 9
    }
   ],
   "metadata": {
    "pycharm": {
     "name": "#%%\n"
    }
   }
  },
  {
   "cell_type": "markdown",
   "source": [
    "## Section 2: Useful Data structure in python\r\n",
    "\r\n",
    "You need to know \r\n",
    "\r\n",
    "1. What is list and dict\r\n",
    "2. Numpy.ndarray \r\n",
    "3. Index and Range"
   ],
   "metadata": {}
  },
  {
   "cell_type": "markdown",
   "source": [
    "### Section 2.1: List and Dict\r\n",
    "\r\n",
    "You need to know \r\n",
    "\r\n",
    "1. List is an **ordered** collection.\r\n",
    "   \r\n",
    "2. Dict is an **unordered** set of key-value **pairs**\r\n",
    "\r\n",
    "3. How to use them"
   ],
   "metadata": {}
  },
  {
   "cell_type": "code",
   "execution_count": null,
   "source": [
    "a = [] # an empty list\r\n",
    "a = [1,2,3]\r\n",
    "print(len(a)) # 3\r\n",
    "print(a[0], a[1], a[2]) #1 2 3\r\n",
    "print(a[-1], a[-2], a[-3]) # 3 2 1\r\n",
    "print(a[0:2]) # [1, 2]\r\n",
    "a.append(4)\r\n",
    "print(a)\r\n",
    "a.remove(4) # remove by value\r\n",
    "print(a)\r\n",
    "a += [4,4] # contact [1,2,3] and [4,4]\r\n",
    "print(a)\r\n",
    "a.pop(2) # will remove 3\r\n",
    "print(a)\r\n",
    "\r\n",
    "\r\n",
    "a = [1, 2, 3]\r\n",
    "# a[3] # please uncomment this line and try to explain the output\r\n",
    "\r\n",
    "a = [1, 'a', print] # elements could be different type\r\n",
    "print(a)\r\n",
    "#[1, 'a', <built-in function print>]\r\n",
    "\r\n",
    "####\r\n",
    "a[2](a[0], a[1])\r\n",
    "# try to learn from it.\r\n"
   ],
   "outputs": [],
   "metadata": {
    "pycharm": {
     "name": "#%%\n"
    }
   }
  },
  {
   "cell_type": "code",
   "execution_count": null,
   "source": [
    "d = dict()\r\n",
    "d = dict({\r\n",
    "    'child': 9,\r\n",
    "    'students': 20\r\n",
    "})\r\n",
    "print(d)\r\n",
    "print(d['child'])\r\n",
    "print(d.keys())\r\n",
    "print(d.values())\r\n",
    "\r\n",
    "# d['not in keys'] # please uncomment this line and try to explain the output\r\n",
    "\r\n",
    "d = dict({\r\n",
    "    'a': 1234,\r\n",
    "    'b': [1,2,3,4],\r\n",
    "    'c': dict({'a': 1}),\r\n",
    "    4: 'values',\r\n",
    "    'print': print\r\n",
    "})\r\n",
    "print(d)\r\n",
    "d['print'](d.keys())\r\n",
    "\r\n",
    "help(dict) # you can use 'help(sth)' to learn how to use something."
   ],
   "outputs": [],
   "metadata": {}
  },
  {
   "cell_type": "markdown",
   "source": [
    "Basically, if you want to have an ordered set **find elements by index**, use list.\r\n",
    "\r\n",
    "\r\n",
    "If you want to **find sth by name**(or other keys, use dict)\r\n"
   ],
   "metadata": {}
  },
  {
   "cell_type": "markdown",
   "source": [
    "### Section 2.2: Numpy Array\r\n",
    "\r\n",
    "You need to know \r\n",
    "\r\n",
    "0. What is external module\r\n",
    "\r\n",
    "1. Basic numpy stuffs\r\n",
    "   \r\n",
    "2. Numpy helper module\r\n",
    "\r\n",
    "\r\n",
    "3. When you are writing python code, you will always have the mind that if someone has done this for me, it would be great. At that time, I suggest you first search for your needs on google which will bring you to the StackOverflow, and then you will know what library to download. Second, make good use of GitHub's advanced search functions.\r\n"
   ],
   "metadata": {}
  },
  {
   "cell_type": "markdown",
   "source": [
    "### Section 2.3: Index and Range\r\n",
    "\r\n",
    "You need to know \r\n",
    "\r\n",
    "1. Index finding skills.\r\n",
    "   \r\n",
    "2. Useful Iteration Tools."
   ],
   "metadata": {}
  }
 ],
 "metadata": {
  "kernelspec": {
   "name": "python3",
   "display_name": "Python 3.8.5 64-bit"
  },
  "language_info": {
   "codemirror_mode": {
    "name": "ipython",
    "version": 3
   },
   "file_extension": ".py",
   "mimetype": "text/x-python",
   "name": "python",
   "nbconvert_exporter": "python",
   "pygments_lexer": "ipython3",
   "version": "3.8.5"
  },
  "interpreter": {
   "hash": "ed4cad2648bb4234ac6e351812061dac9de148f307e9679e6c3026a354a02b12"
  }
 },
 "nbformat": 4,
 "nbformat_minor": 4
}