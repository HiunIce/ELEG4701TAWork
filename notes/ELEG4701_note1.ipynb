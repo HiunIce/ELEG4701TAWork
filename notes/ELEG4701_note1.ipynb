{
 "cells": [
  {
   "cell_type": "markdown",
   "source": [
    "# ELEG 4701 Note 1: Elements in python\r\n",
    "\r\n",
    "2021-2022 Term 1, ELEG 4701: Intelligent Interactive Robots. \r\n",
    "\r\n",
    "Department of Electronic Engineering, The Chinese University of Hong Kong. \r\n",
    "\r\n",
    "Course Instructor: Liu Li. \r\n",
    "\r\n",
    "Teaching Assistant for Lecure 2: Li Ang \r\n"
   ],
   "metadata": {}
  },
  {
   "cell_type": "markdown",
   "source": [
    "| Student Name | Student ID |\r\n",
    "| :----: | :----: |\r\n",
    "| Your Name | Your SID |\r\n",
    "\r\n",
    "------"
   ],
   "metadata": {}
  },
  {
   "cell_type": "markdown",
   "source": [
    " The objective of this note is for you to get ready for python programming rapidly.\r\n",
    " \r\n",
    " **If you really can not finish the assignment 2, run this script with a report, It will be counted as scores.**\r\n",
    "\r\n",
    "This note has the following sections:\r\n",
    "\r\n",
    " - Section 1: **Type and variable**\r\n",
    " - Section 2: **Useful Data structure in python**\r\n",
    " - Section 3: **Condition Statements**\r\n",
    "\r\n",
    "\r\n",
    "Add codes or extra cells are encouraged, and you can write comments so that we can keep improving this notes!.\r\n",
    "\r\n",
    "You can also report bugs or comments via **github issues** or **psw.liang@link.cuhk.edu.hk**.\r\n"
   ],
   "metadata": {}
  },
  {
   "cell_type": "markdown",
   "source": [
    "## Section 1 Type and variable\r\n",
    "\r\n",
    "In this section, I will tak about what is a **variable** and what is a **type**.\r\n",
    "\r\n",
    "\r\n",
    "The concept of variable is basically not exactly the same as the variable of algebraic equation. It is more like a \"code name\" for a data structure.\r\n",
    "\r\n",
    "And the 'type' of variable, is the 'type' of the data structure. \r\n",
    "\r\n",
    "For example, in C or Cpp, you have to declare a int number with\r\n",
    "\r\n",
    "int a = 0;\r\n",
    "\r\n",
    "or \r\n",
    "\r\n",
    "\r\n",
    "auto a = 0; // in modern cpp, you can use the key word 'auto' to let the compiler help you inference the type of variable. \r\n",
    "\r\n",
    "\r\n",
    "Therefore, naturally we will have a question that is the auto here redundant?\r\n",
    "\r\n",
    "In python, you don’t have to write out the data type explicitly. At the same time, this feature leads to another interesting feature; in python, you can assign a variable many times, even if the objects belongs to different classes. \r\n"
   ],
   "metadata": {}
  },
  {
   "cell_type": "code",
   "execution_count": 9,
   "source": [
    "# Run this cell without modification\r\n",
    "a = 1 # assigned 1 to a\r\n",
    "print(type(a)) # print the type of variable\r\n",
    "a = 2 # assigned 2 to a\r\n",
    "print(type(a))\r\n",
    "a = \"abc\" # assgined a into another class\r\n",
    "print(type(a))\r\n",
    "\r\n",
    "\"\"\"\r\n",
    "Expected output \r\n",
    "<class 'int'>\r\n",
    "<class 'int'>\r\n",
    "<class 'str'>\r\n",
    "\"\"\""
   ],
   "outputs": [
    {
     "output_type": "stream",
     "name": "stdout",
     "text": [
      "<class 'int'>\n",
      "<class 'int'>\n",
      "<class 'str'>\n"
     ]
    },
    {
     "output_type": "execute_result",
     "data": {
      "text/plain": [
       "\"\\nExpected output \\n<class 'int'>\\n<class 'int'>\\n<class 'str'>\\n\""
      ]
     },
     "metadata": {},
     "execution_count": 9
    }
   ],
   "metadata": {
    "pycharm": {
     "name": "#%%\n"
    }
   }
  },
  {
   "cell_type": "markdown",
   "source": [
    "## Section 2: Useful Data structure in python\r\n",
    "\r\n",
    "You need to know \r\n",
    "\r\n",
    "1. What is list and dict\r\n",
    "2. Numpy.ndarray \r\n",
    "3. Index and Range"
   ],
   "metadata": {}
  },
  {
   "cell_type": "markdown",
   "source": [
    "### Section 2.1: List and Dict\r\n",
    "\r\n",
    "You need to know \r\n",
    "\r\n",
    "1. List is an **ordered** collection.\r\n",
    "   \r\n",
    "2. Dict is an **unordered** set of key-value **pairs**\r\n",
    "\r\n",
    "3. How to use them"
   ],
   "metadata": {}
  },
  {
   "cell_type": "code",
   "execution_count": null,
   "source": [
    "a = [] # an empty list\r\n",
    "a = [1,2,3]\r\n",
    "print(len(a)) # 3\r\n",
    "print(a[0], a[1], a[2]) #1 2 3\r\n",
    "print(a[-1], a[-2], a[-3]) # 3 2 1\r\n",
    "print(a[0:2]) # [1, 2]\r\n",
    "a.append(4)\r\n",
    "print(a)\r\n",
    "a.remove(4) # remove by value\r\n",
    "print(a)\r\n",
    "a += [4,4] # contact [1,2,3] and [4,4]\r\n",
    "print(a)\r\n",
    "a.pop(2) # will remove 3\r\n",
    "print(a)\r\n",
    "\r\n",
    "\r\n",
    "a = [1, 2, 3]\r\n",
    "# a[3] # please uncomment this line and try to explain the output\r\n",
    "\r\n",
    "a = [1, 'a', print] # elements could be different type\r\n",
    "print(a)\r\n",
    "#[1, 'a', <built-in function print>]\r\n",
    "\r\n",
    "####\r\n",
    "a[2](a[0], a[1])\r\n",
    "# try to learn from it.\r\n"
   ],
   "outputs": [],
   "metadata": {
    "pycharm": {
     "name": "#%%\n"
    }
   }
  },
  {
   "cell_type": "code",
   "execution_count": null,
   "source": [
    "d = dict()\r\n",
    "d = dict({\r\n",
    "    'child': 9,\r\n",
    "    'students': 20\r\n",
    "})\r\n",
    "print(d)\r\n",
    "print(d['child'])\r\n",
    "print(d.keys())\r\n",
    "print(d.values())\r\n",
    "\r\n",
    "# d['not in keys'] # please uncomment this line and try to explain the output\r\n",
    "\r\n",
    "d = dict({\r\n",
    "    'a': 1234,\r\n",
    "    'b': [1,2,3,4],\r\n",
    "    'c': dict({'a': 1}),\r\n",
    "    4: 'values',\r\n",
    "    'print': print\r\n",
    "})\r\n",
    "print(d)\r\n",
    "d['print'](d.keys())\r\n",
    "\r\n",
    "help(dict) # you can use 'help(sth)' to learn how to use something."
   ],
   "outputs": [],
   "metadata": {}
  },
  {
   "cell_type": "markdown",
   "source": [
    "Basically, if you want to have an ordered set **find elements by index**, use list.\r\n",
    "\r\n",
    "\r\n",
    "If you want to **find sth by name**(or other keys, use dict)\r\n"
   ],
   "metadata": {}
  },
  {
   "cell_type": "markdown",
   "source": [
    "### Section 2.2: Numpy Array\r\n",
    "\r\n",
    "You need to know \r\n",
    "\r\n",
    "0. What is external module\r\n",
    "\r\n",
    "1. Basic numpy stuffs\r\n",
    "   \r\n",
    "2. Numpy helper module\r\n",
    "\r\n",
    " Tips: When you are writing python code, you will always have the mind that 'if someone has done this for me, it would be great'. At that time, I suggest you search for your what need on google and it will bring you to the StackOverflow, then you will know which library is all you need. Secondly, you should make good use of advanced search functions in Github. If you just type something in texteditor and click search, it will only search for titles or summary; as a matter of fact, you can even search function or even a word in Github, you can see how this function works from other's codes."
   ],
   "metadata": {}
  },
  {
   "cell_type": "code",
   "execution_count": null,
   "source": [
    "# pip install numpy\r\n",
    "import numpy       #normal import\r\n",
    "import numpy as np # alias import; it would be easier to use\r\n",
    "# because you may find some module named as \"bbbbb.aaaaa.xxxx.xxxx.xxxx\", if you do not use alias, the code will be too long for type in.\r\n",
    "# from numpy import aaa,bbb,ccc  (in this case, you only import aaa, bbb, ccc from numpy)\r\n",
    "# help(np.ndarray)\r\n",
    "a = [1,2,3,4,5]\r\n",
    "b = np.array(a)\r\n",
    "print(b)\r\n",
    "c = np.array([a,a,a])\r\n",
    "print(c)\r\n",
    "d = np.zeros_like(c)\r\n",
    "print(d)\r\n",
    "print(b.shape, c.shape, d.shape)\r\n",
    "################# shallow copy (like copied a pointer or reference)\r\n",
    "e = d[0]\r\n",
    "print(e, e.shape)\r\n",
    "e[:] = 1\r\n",
    "print(e)\r\n",
    "print(d) # you may find d[0] becomes [1 1 1 1 1]\r\n",
    "\r\n",
    "##################\r\n",
    "f = np.array(e[2:4]) # deep copy (create a new object)\r\n",
    "f[0] = 2\r\n",
    "print(f)\r\n",
    "print(e)  "
   ],
   "outputs": [],
   "metadata": {}
  },
  {
   "cell_type": "markdown",
   "source": [
    "Basically, almost every math libraries in python are based on numpy; Eg: computer vision library opencv-python(cv2), image library PIL, scientific computing library scipy, and scientific image library scikit-image.\r\n",
    "\r\n",
    " In addition, numpy array is easy to be visited by C pointer, that is to say, if you want to make your code faster, you can use C, Cpp or even Cuda to process numpy data, it will makes your program run more efficiently."
   ],
   "metadata": {}
  },
  {
   "cell_type": "markdown",
   "source": [
    "### Section 2.3: Index and Range\r\n",
    "\r\n",
    "You need to know \r\n",
    "\r\n",
    "1. Index finding skills.\r\n",
    "   \r\n",
    "2. Useful Iteration Tools."
   ],
   "metadata": {}
  },
  {
   "cell_type": "code",
   "execution_count": null,
   "source": [
    "a = np.array(range(0,16)).reshape(4,4)\r\n",
    "print(a)\r\n",
    "\r\n",
    "print(a.shape)\r\n",
    "\r\n",
    "print(a[0], a[-1]) # visit something directly\r\n",
    "\r\n",
    "print(a[1:3]) # [1, 3) --> [1,2]\r\n",
    "\r\n",
    "odd = (a % 2 != 0) # what is the type of 'odd' array?\r\n",
    "print(odd)\r\n",
    "\r\n",
    "print(a[odd]) # find all odd number \r\n",
    "\r\n",
    "a[odd] += 1 # image what will happen.\r\n",
    "\r\n",
    "print(a)\r\n",
    "\r\n",
    "# print(a[1.5])  # un-comment this line, and try\r\n",
    "\r\n",
    "print(a[int(1.4)], a[int(1.5)], a[int(1.6)]) # int means integer"
   ],
   "outputs": [],
   "metadata": {}
  },
  {
   "cell_type": "code",
   "execution_count": null,
   "source": [
    "import itertools\r\n",
    "\r\n",
    "a = ['a', 'b', 'c', 'd', 'e']\r\n",
    "b = [1, 2, 3, 4, 5]\r\n",
    "\r\n",
    "# at least, you should to know how to use zip and enumerate\r\n",
    "\r\n",
    "print('zip ~~~~~~~~~~~~')\r\n",
    "\r\n",
    "for i, j in zip(a,b):\r\n",
    "    print(i, j)\r\n",
    "\r\n",
    "print('enumerate ~~~~~~~~~~~~')\r\n",
    "\r\n",
    "for index, data in enumerate(a):\r\n",
    "    print(index, ':', data)\r\n",
    "\r\n",
    "print('chain ~~~~~~~~~~~')\r\n",
    "\r\n",
    "for d in itertools.chain(a,b):\r\n",
    "    print(d)"
   ],
   "outputs": [],
   "metadata": {}
  },
  {
   "cell_type": "markdown",
   "source": [
    "## Section 3: Contidion Statements\r\n",
    "\r\n",
    "You need to know \r\n",
    "\r\n",
    "1. If\r\n",
    "2. Iteration\r\n",
    "3. How to avoid nesting of condition statements."
   ],
   "metadata": {}
  },
  {
   "cell_type": "code",
   "execution_count": null,
   "source": [
    "# Initially, you should know what is 'bool type'\r\n",
    "# in a word, 'bool' is True of False (Notice of capital)\r\n",
    "a = 1\r\n",
    "b = True\r\n",
    "c = -1\r\n",
    "d = (1==0)\r\n",
    "e = (a==b) # in python, you can easily regard True == 1, False == 0\r\n",
    "f = a and d\r\n",
    "g = e or f\r\n",
    "print(a, b, c)\r\n",
    "print(d, e, f, g)\r\n"
   ],
   "outputs": [],
   "metadata": {}
  },
  {
   "cell_type": "code",
   "execution_count": null,
   "source": [
    "# Once you know what a Boolean type is, everything becomes simple. \r\n",
    "# The parameter in ‘If statement’ needs to be of Boolean type.\r\n",
    "# If it is true, execute the code below if\r\n",
    "# otherwise execute the code below else.\r\n",
    "# If you need to nest multiple ifs,\r\n",
    "# please use elif(which means else if)\r\n",
    "\r\n",
    "if 1==0:\r\n",
    "    print('it will not happens')\r\n",
    "else:\r\n",
    "    print('1 != 0')\r\n",
    "#####################\r\n",
    "if 'a' == 'b':\r\n",
    "    print('will not happen')\r\n",
    "elif 'a' == 'c':\r\n",
    "    print('also will not happens')\r\n",
    "else:\r\n",
    "    print('you should always write else below elif, to avoid potential bugs')\r\n"
   ],
   "outputs": [],
   "metadata": {}
  },
  {
   "cell_type": "code",
   "execution_count": null,
   "source": [
    "# then is how to iteration\r\n",
    "# for_in_range and while may covers 99.9% situations\r\n",
    "for i in range(5):\r\n",
    "    print('from for',i)\r\n",
    "\r\n",
    "\r\n",
    "i = 10\r\n",
    "\r\n",
    "while i >= 10:\r\n",
    "    print('from while',i)\r\n",
    "    i = i-1 # when you use 'while' please remember to change the indicator\r\n"
   ],
   "outputs": [],
   "metadata": {}
  },
  {
   "cell_type": "code",
   "execution_count": null,
   "source": [
    "'''\r\n",
    "sometimes, you will write codes like this:\r\n",
    "\r\n",
    "if a:\r\n",
    "    if b:\r\n",
    "        if c:\r\n",
    "            if d:\r\n",
    "                if e:\r\n",
    "                    if f:\r\n",
    "                        if g:\r\n",
    "\r\n",
    "you can change it into:\r\n",
    "\r\n",
    "if not a:\r\n",
    "    return\r\n",
    "if not b:\r\n",
    "    return \r\n",
    "if not c:\r\n",
    "    return \r\n",
    "#.......\r\n",
    "if g:\r\n",
    "    pass\r\n",
    "else:\r\n",
    "    pass\r\n",
    "'''\r\n",
    "\r\n",
    "# if you really do not want to write so many if\r\n",
    "# please make use of dict\r\n",
    "info='info'\r\n",
    "if info == 'a':\r\n",
    "    print('a')\r\n",
    "elif info == 'b':\r\n",
    "    print('b')\r\n",
    "elif info == 'info':\r\n",
    "    print('oh yeah')\r\n",
    "\r\n",
    "# then you can do this\r\n",
    "\r\n",
    "def func_a():\r\n",
    "    print('a')\r\n",
    "def func_b():\r\n",
    "    print('b')\r\n",
    "def func_info():\r\n",
    "    print('info')\r\n",
    "\r\n",
    "func_dict = dict({\r\n",
    "    'a': func_a,\r\n",
    "    'b': func_b,\r\n",
    "    'info': func_info\r\n",
    "})\r\n",
    "print(func_dict)\r\n",
    "\r\n",
    "func_dict[info]()"
   ],
   "outputs": [],
   "metadata": {}
  }
 ],
 "metadata": {
  "kernelspec": {
   "name": "python3",
   "display_name": "Python 3.8.5 64-bit"
  },
  "language_info": {
   "codemirror_mode": {
    "name": "ipython",
    "version": 3
   },
   "file_extension": ".py",
   "mimetype": "text/x-python",
   "name": "python",
   "nbconvert_exporter": "python",
   "pygments_lexer": "ipython3",
   "version": "3.8.5"
  },
  "interpreter": {
   "hash": "ed4cad2648bb4234ac6e351812061dac9de148f307e9679e6c3026a354a02b12"
  }
 },
 "nbformat": 4,
 "nbformat_minor": 4
}