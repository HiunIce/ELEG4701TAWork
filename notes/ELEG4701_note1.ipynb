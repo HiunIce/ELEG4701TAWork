{
 "cells": [
  {
   "cell_type": "markdown",
   "source": [
    "# ELEG 4701 Note 1: Elements in python\r\n",
    "\r\n",
    "2021-2022 Term 1, ELEG 4701: Intelligent Interactive Robots. \r\n",
    "\r\n",
    "Department of Electronic Engineering, The Chinese University of Hong Kong. \r\n",
    "\r\n",
    "Course Instructor: Liu Li. \r\n",
    "\r\n",
    "Teaching Assistant for Lecure 2: Li Ang \r\n"
   ],
   "metadata": {}
  },
  {
   "cell_type": "markdown",
   "source": [
    "| Student Name | Student ID |\r\n",
    "| :----: | :----: |\r\n",
    "| Your Name | Your SID |\r\n",
    "\r\n",
    "------"
   ],
   "metadata": {}
  },
  {
   "cell_type": "markdown",
   "source": [
    " The objective of this note is for you to get ready for python programming rapidly.\r\n",
    " \r\n",
    " **If you really can not finish the assignment 2, run this script with a report, It will be counted as scores.**\r\n",
    "\r\n",
    "This note has the following sections:\r\n",
    "\r\n",
    " - Section 1: **Type and variable**\r\n",
    " - Section 2: **Useful Data structure in python**\r\n",
    " - Section 3: **If, for and while**\r\n",
    "\r\n",
    "\r\n",
    "Add codes or extra cells are encouraged, and you can write comments so that we can keep improving this notes!.\r\n",
    "\r\n",
    "You can also report bugs or comments via **github issues** or **psw.liang@link.cuhk.edu.hk**.\r\n"
   ],
   "metadata": {}
  },
  {
   "cell_type": "markdown",
   "source": [
    "## Type and variable\r\n",
    "\r\n",
    "In this section, I will tak about what is a **variable** and what is a **type**.\r\n",
    "\r\n",
    "\r\n",
    "The concept of variable is basically not exactly the same as the variable of algebraic equation. It is more like a \"code name\" for a data structure.\r\n",
    "\r\n",
    "And the 'type' of variable, is the 'type' of the data structure. In python, you don’t have to write out the data type explicitly.\r\n",
    "\r\n",
    "For example, in C or Cpp, you have to declare a int number with\r\n",
    "\r\n",
    "int a = 0;\r\n",
    "or \r\n",
    "auto a = 0;// in, "
   ],
   "metadata": {}
  },
  {
   "cell_type": "code",
   "execution_count": 1,
   "source": [
    "# Run this cell without modification\r\n",
    "\r\n",
    "# Import some packages that we need to use\r\n",
    "from utils import *\r\n",
    "import gym\r\n",
    "import numpy as np\r\n",
    "from collections import deque"
   ],
   "outputs": [],
   "metadata": {
    "pycharm": {
     "name": "#%%\n"
    }
   }
  },
  {
   "cell_type": "markdown",
   "source": [
    "### Section 1.1: Make the environment\n",
    "\n",
    "You need to know \n",
    "\n",
    "1. How to make an environment\n",
    "2. How to set the random seed of environment\n",
    "3. What is observation space and action space"
   ],
   "metadata": {}
  },
  {
   "cell_type": "markdown",
   "source": [
    "### Section 1.2: Play the environment with random actions\n",
    "\n",
    "You need to know \n",
    "\n",
    "1. How to step the environment\n",
    "2. How to render the environment"
   ],
   "metadata": {}
  },
  {
   "cell_type": "code",
   "execution_count": 6,
   "source": [
    "# You can do more inverstigation here if you wish. Leave it blank if you don't."
   ],
   "outputs": [],
   "metadata": {
    "pycharm": {
     "name": "#%%\n"
    }
   }
  },
  {
   "cell_type": "markdown",
   "source": [
    "Thanks:\r\n",
    "\r\n",
    "1. This note is modified from Course IERG 5350 (I changed everything from the script but kept the style of talking)\r\n",
    "\r\n",
    "2. A lot of structure and inspiration come from Liao Xuefeng’s blog \r\n",
    "\r\n"
   ],
   "metadata": {}
  }
 ],
 "metadata": {
  "kernelspec": {
   "display_name": "Python 3",
   "language": "python",
   "name": "python3"
  },
  "language_info": {
   "codemirror_mode": {
    "name": "ipython",
    "version": 3
   },
   "file_extension": ".py",
   "mimetype": "text/x-python",
   "name": "python",
   "nbconvert_exporter": "python",
   "pygments_lexer": "ipython3",
   "version": "3.8.3"
  }
 },
 "nbformat": 4,
 "nbformat_minor": 4
}